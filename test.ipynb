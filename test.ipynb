{
 "cells": [
  {
   "cell_type": "code",
   "execution_count": 2,
   "metadata": {},
   "outputs": [
    {
     "data": {
      "application/vnd.jupyter.widget-view+json": {
       "model_id": "fabb923431494f9eac4d11669833e349",
       "version_major": 2,
       "version_minor": 0
      },
      "text/plain": [
       "VBox(children=(VBox(children=(FloatSlider(value=100.0, description='M_1(MX)', max=1500.0, min=100.0, step=100.…"
      ]
     },
     "metadata": {},
     "output_type": "display_data"
    }
   ],
   "source": [
    "import desintegration\n",
    "import ipywidgets as widgets\n",
    "from IPython.display import display\n",
    "from matplotlib.widgets import Slider\n",
    "\n",
    "m1_slider = widgets.FloatSlider(min = 100, max=1500, step = 100, value = 100, description = 'M_1(MX)')\n",
    "m2_slider = widgets.FloatSlider(min = 100, max=1500, step = 100, value = 200, description = 'M_2(MX)')\n",
    "mu_slider = widgets.FloatSlider(min = 100, max=1500, step = 100, value = 800, description = 'mu(MX)')\n",
    "tan_beta_slider = widgets.FloatSlider(min = 0, max=50, step = 0.1, value = 10, description = 'tan(beta)')\n",
    "\n",
    "# interactive_plot2 = widgets.interactive(\n",
    "#      desintegration.update_graph,\n",
    "#      m1_value = m1_slider,\n",
    "#      m2_value = m2_slider,\n",
    "#      mu_value = mu_slider,\n",
    "#      tan_beta_value = tan_beta_slider\n",
    "# )\n",
    "\n",
    "interative_plot = widgets.interactive_output(desintegration.update_graph, {'m1_value' : m1_slider, 'm2_value' : m2_slider, 'mu_value' : mu_slider, 'tan_beta_value' : tan_beta_slider})\n",
    "\n",
    "box_layout = widgets.Layout(display='flex', flex_flow = 'column', align_items = 'center', width = '100%')\n",
    "slider_box = widgets.VBox([m1_slider, m2_slider, mu_slider, tan_beta_slider], layout=box_layout)\n",
    "graph_box = widgets.Box([interative_plot],layout=box_layout)\n",
    "\n",
    "main_container = widgets.VBox([slider_box, graph_box])\n",
    "display(main_container)"
   ]
  }
 ],
 "metadata": {
  "kernelspec": {
   "display_name": "Python 3",
   "language": "python",
   "name": "python3"
  },
  "language_info": {
   "codemirror_mode": {
    "name": "ipython",
    "version": 3
   },
   "file_extension": ".py",
   "mimetype": "text/x-python",
   "name": "python",
   "nbconvert_exporter": "python",
   "pygments_lexer": "ipython3",
   "version": "3.9.13"
  },
  "orig_nbformat": 4
 },
 "nbformat": 4,
 "nbformat_minor": 2
}
